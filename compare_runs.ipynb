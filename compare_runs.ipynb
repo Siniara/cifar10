{
 "cells": [
  {
   "cell_type": "markdown",
   "id": "db7d96f4",
   "metadata": {},
   "source": [
    "# Simple Dashboard"
   ]
  },
  {
   "cell_type": "code",
   "execution_count": 13,
   "id": "7564c01c",
   "metadata": {},
   "outputs": [
    {
     "data": {
      "application/vnd.plotly.v1+json": {
       "config": {
        "plotlyServerURL": "https://plot.ly"
       },
       "data": [
        {
         "line": {
          "color": "#636EFA"
         },
         "mode": "lines+markers",
         "name": "TinyVGG_run_1_09290103_last - train",
         "type": "scatter",
         "xaxis": "x",
         "y": [
          1.3542257318496704,
          0.8978791421890259,
          0.7320912041783333,
          0.627174911904335,
          0.5404643290042878,
          0.46735345494151115,
          0.4042192310094833,
          0.34544137599766256,
          0.2951805811613798,
          0.25808191584050655
         ],
         "yaxis": "y"
        },
        {
         "line": {
          "color": "rgb(148,165,255)",
          "dash": "dash"
         },
         "mode": "lines+markers",
         "name": "TinyVGG_run_1_09290103_last - val",
         "type": "scatter",
         "xaxis": "x",
         "y": [
          1.0178347069740294,
          0.8331705223083496,
          0.7865414554595948,
          0.7876805187225342,
          0.7700022668838501,
          0.8068562925338745,
          0.8577318470001221,
          0.9146098340034485,
          1.0299159222126006,
          1.0975309195518494
         ],
         "yaxis": "y"
        },
        {
         "line": {
          "color": "#636EFA"
         },
         "mode": "lines+markers",
         "name": "TinyVGG_run_1_09290103_last - train",
         "type": "scatter",
         "xaxis": "x2",
         "y": [
          0.5158500075340271,
          0.6876500248908997,
          0.742900013923645,
          0.7825750112533569,
          0.8113750219345093,
          0.8362749814987183,
          0.8576750159263611,
          0.8769999742507935,
          0.8946750164031982,
          0.9082249999046326
         ],
         "yaxis": "y2"
        },
        {
         "line": {
          "color": "rgb(148,165,255)",
          "dash": "dash"
         },
         "mode": "lines+markers",
         "name": "TinyVGG_run_1_09290103_last - val",
         "type": "scatter",
         "xaxis": "x2",
         "y": [
          0.6482999920845032,
          0.7075999975204468,
          0.727400004863739,
          0.7301999926567078,
          0.738099992275238,
          0.7333999872207642,
          0.7408999800682068,
          0.7333999872207642,
          0.7314000129699707,
          0.722599983215332
         ],
         "yaxis": "y2"
        },
        {
         "line": {
          "color": "#EF553B"
         },
         "mode": "lines+markers",
         "name": "TinyVGG_run_2_09290110_last - train",
         "type": "scatter",
         "xaxis": "x",
         "y": [
          1.5851118692398072,
          1.2291129908561707,
          1.0475257983207702,
          0.9414311025619507,
          0.8655865999221801,
          0.8174860846042633,
          0.7758384262084961,
          0.7419720280170441,
          0.717708054971695,
          0.6934305057525635,
          0.6706322125911712,
          0.655041774892807,
          0.6331928936958313,
          0.6251248696804047,
          0.6093710029125213,
          0.5999305068016052,
          0.5897533110618591,
          0.5882200200080872,
          0.5773781098842621,
          0.5546351326942444
         ],
         "yaxis": "y"
        },
        {
         "line": {
          "color": "rgb(255,127,88)",
          "dash": "dash"
         },
         "mode": "lines+markers",
         "name": "TinyVGG_run_2_09290110_last - val",
         "type": "scatter",
         "xaxis": "x",
         "y": [
          1.3847566032409668,
          1.1404761209487915,
          0.9817640287399292,
          0.8836653444290161,
          0.8440125288009643,
          0.835906227684021,
          0.7936170735359191,
          0.7546080877304077,
          0.7546425188064575,
          0.7280713642120361,
          0.7472826076507568,
          0.6780556091308594,
          0.687008568763733,
          0.6785269295692444,
          0.682075206565857,
          0.6553762320518494,
          0.6789306392192841,
          0.6659456608295441,
          0.6589695577621459,
          0.6790802737236022
         ],
         "yaxis": "y"
        },
        {
         "line": {
          "color": "#EF553B"
         },
         "mode": "lines+markers",
         "name": "TinyVGG_run_2_09290110_last - train",
         "type": "scatter",
         "xaxis": "x2",
         "y": [
          0.42432498931884766,
          0.5620999932289124,
          0.6314499974250793,
          0.6720749735832214,
          0.6994500160217285,
          0.7156749963760376,
          0.7293000221252441,
          0.7408249974250793,
          0.7504000067710876,
          0.760325014591217,
          0.7662749886512756,
          0.7750250101089478,
          0.779325008392334,
          0.7856749892234802,
          0.7897250056266785,
          0.7886750102043152,
          0.7952250242233276,
          0.7986000180244446,
          0.800225019454956,
          0.8060749769210815
         ],
         "yaxis": "y2"
        },
        {
         "line": {
          "color": "rgb(255,127,88)",
          "dash": "dash"
         },
         "mode": "lines+markers",
         "name": "TinyVGG_run_2_09290110_last - val",
         "type": "scatter",
         "xaxis": "x2",
         "y": [
          0.5065000057220459,
          0.5947999954223633,
          0.6481999754905701,
          0.6862999796867371,
          0.699999988079071,
          0.7067000269889832,
          0.7222999930381775,
          0.7391999959945679,
          0.7368000149726868,
          0.7444000244140625,
          0.7354999780654907,
          0.7626000046730042,
          0.7610999941825867,
          0.766700029373169,
          0.7633000016212463,
          0.7703999876976013,
          0.7626000046730042,
          0.7716000080108643,
          0.7735000252723694,
          0.772599995136261
         ],
         "yaxis": "y2"
        },
        {
         "line": {
          "color": "#00CC96"
         },
         "mode": "lines+markers",
         "name": "TinyVGG_run_3_09290127_last - train",
         "type": "scatter",
         "xaxis": "x",
         "y": [
          1.4567348092079162,
          1.0526341457366943,
          0.919199258518219,
          0.8354726305961608,
          0.767308900642395,
          0.7243540229797363,
          0.6827989193916321,
          0.6499400331020355,
          0.6295496878623963,
          0.59859243516922,
          0.574024684047699,
          0.5624953179836273,
          0.539275577545166,
          0.5214658264160156,
          0.5149550163984299,
          0.4995636211872101,
          0.4840243150949478,
          0.47620778090953825,
          0.4701816251039505,
          0.4511431345462799
         ],
         "yaxis": "y"
        },
        {
         "line": {
          "color": "rgb(0,255,225)",
          "dash": "dash"
         },
         "mode": "lines+markers",
         "name": "TinyVGG_run_3_09290127_last - val",
         "type": "scatter",
         "xaxis": "x",
         "y": [
          1.506335624885559,
          1.0806926336288452,
          0.9802263975143433,
          0.8377565927505494,
          0.9117178867340088,
          0.7590182642936707,
          0.8013147499084473,
          0.7159921365737915,
          0.776002375793457,
          0.6535130180358887,
          0.639595090007782,
          0.6241613496780396,
          0.6224570407867431,
          0.6288151512145996,
          0.6476709151744843,
          0.6211595826148987,
          0.6036784768104553,
          0.5964124542236328,
          0.595699061203003,
          0.5656375532627106
         ],
         "yaxis": "y"
        },
        {
         "line": {
          "color": "#00CC96"
         },
         "mode": "lines+markers",
         "name": "TinyVGG_run_3_09290127_last - train",
         "type": "scatter",
         "xaxis": "x2",
         "y": [
          0.47622498869895935,
          0.6277499794960022,
          0.6800000071525574,
          0.7087500095367432,
          0.7346500158309937,
          0.7463750243186951,
          0.7628250122070312,
          0.7745749950408936,
          0.7799999713897705,
          0.7921500205993652,
          0.8025500178337097,
          0.8063499927520752,
          0.8131250143051147,
          0.8203750252723694,
          0.8218250274658203,
          0.8277249932289124,
          0.8309000134468079,
          0.8349499702453613,
          0.8359000086784363,
          0.8428500294685364
         ],
         "yaxis": "y2"
        },
        {
         "line": {
          "color": "rgb(0,255,225)",
          "dash": "dash"
         },
         "mode": "lines+markers",
         "name": "TinyVGG_run_3_09290127_last - val",
         "type": "scatter",
         "xaxis": "x2",
         "y": [
          0.5110999941825867,
          0.6251999735832214,
          0.6600000262260437,
          0.7055000066757202,
          0.6869999766349792,
          0.7340999841690063,
          0.7329000234603882,
          0.7501999735832214,
          0.7328000068664551,
          0.7735999822616577,
          0.7802000045776367,
          0.7828999757766724,
          0.7856000065803528,
          0.788100004196167,
          0.78329998254776,
          0.7875000238418579,
          0.7947999835014343,
          0.7936000227928162,
          0.7990000247955322,
          0.8075000047683716
         ],
         "yaxis": "y2"
        },
        {
         "line": {
          "color": "#AB63FA"
         },
         "mode": "lines+markers",
         "name": "TinyVGG_run_4_09290140_last - train",
         "type": "scatter",
         "xaxis": "x",
         "y": [
          1.6605275842666627,
          1.3401226464271545,
          1.1906954782485961,
          1.095054201412201,
          1.028389915561676,
          0.9740725929260254,
          0.9320169722557068,
          0.8931916680335998,
          0.8739580949783325,
          0.8461491462230682,
          0.8195453395843506,
          0.8098051106452941,
          0.7856296710014343,
          0.7734267708778382,
          0.7531711111545563,
          0.7511399837493896,
          0.7317652432918549,
          0.7245781364440917,
          0.7149781792640686,
          0.7065078857421875
         ],
         "yaxis": "y"
        },
        {
         "line": {
          "color": "rgb(255,148,255)",
          "dash": "dash"
         },
         "mode": "lines+markers",
         "name": "TinyVGG_run_4_09290140_last - val",
         "type": "scatter",
         "xaxis": "x",
         "y": [
          1.3854219423294067,
          1.1655133863449096,
          1.0024749172210694,
          0.9688579416275025,
          0.8751284343719482,
          0.8392416604042053,
          0.8038566854476928,
          0.7792334642410278,
          0.7268983981132507,
          0.7526900018215179,
          0.7082113540649414,
          0.6791852290153504,
          0.690769827079773,
          0.6581462604522705,
          0.6938835070133209,
          0.6428564920425415,
          0.625457372713089,
          0.6282367834091187,
          0.6016634556770325,
          0.6061874853134155
         ],
         "yaxis": "y"
        },
        {
         "line": {
          "color": "#AB63FA"
         },
         "mode": "lines+markers",
         "name": "TinyVGG_run_4_09290140_last - train",
         "type": "scatter",
         "xaxis": "x2",
         "y": [
          0.4041750133037567,
          0.5242000222206116,
          0.5804749727249146,
          0.6122499704360962,
          0.6393250226974487,
          0.6569499969482422,
          0.6735749840736389,
          0.6874250173568726,
          0.6949750185012817,
          0.7056000232696533,
          0.7126500010490417,
          0.7185750007629395,
          0.7293499708175659,
          0.7331500053405762,
          0.7405750155448914,
          0.739549994468689,
          0.7484250068664551,
          0.7500500082969666,
          0.7532250285148621,
          0.7542750239372253
         ],
         "yaxis": "y2"
        },
        {
         "line": {
          "color": "rgb(255,148,255)",
          "dash": "dash"
         },
         "mode": "lines+markers",
         "name": "TinyVGG_run_4_09290140_last - val",
         "type": "scatter",
         "xaxis": "x2",
         "y": [
          0.5012999773025513,
          0.5817999839782715,
          0.6413999795913696,
          0.6517999768257141,
          0.6937000155448914,
          0.7049999833106995,
          0.7139000296592712,
          0.7257999777793884,
          0.7444999814033508,
          0.7383999824523926,
          0.7555000185966492,
          0.7666000127792358,
          0.7612000107765198,
          0.7688999772071838,
          0.758899986743927,
          0.7767000198364258,
          0.7847999930381775,
          0.78329998254776,
          0.791100025177002,
          0.788100004196167
         ],
         "yaxis": "y2"
        }
       ],
       "layout": {
        "annotations": [
         {
          "font": {
           "size": 16
          },
          "showarrow": false,
          "text": "Loss",
          "x": 0.5,
          "xanchor": "center",
          "xref": "paper",
          "y": 1,
          "yanchor": "bottom",
          "yref": "paper"
         },
         {
          "font": {
           "size": 16
          },
          "showarrow": false,
          "text": "Accuracy",
          "x": 0.5,
          "xanchor": "center",
          "xref": "paper",
          "y": 0.375,
          "yanchor": "bottom",
          "yref": "paper"
         }
        ],
        "height": 700,
        "margin": {
         "r": 200
        },
        "showlegend": true,
        "template": {
         "data": {
          "bar": [
           {
            "error_x": {
             "color": "#2a3f5f"
            },
            "error_y": {
             "color": "#2a3f5f"
            },
            "marker": {
             "line": {
              "color": "#E5ECF6",
              "width": 0.5
             },
             "pattern": {
              "fillmode": "overlay",
              "size": 10,
              "solidity": 0.2
             }
            },
            "type": "bar"
           }
          ],
          "barpolar": [
           {
            "marker": {
             "line": {
              "color": "#E5ECF6",
              "width": 0.5
             },
             "pattern": {
              "fillmode": "overlay",
              "size": 10,
              "solidity": 0.2
             }
            },
            "type": "barpolar"
           }
          ],
          "carpet": [
           {
            "aaxis": {
             "endlinecolor": "#2a3f5f",
             "gridcolor": "white",
             "linecolor": "white",
             "minorgridcolor": "white",
             "startlinecolor": "#2a3f5f"
            },
            "baxis": {
             "endlinecolor": "#2a3f5f",
             "gridcolor": "white",
             "linecolor": "white",
             "minorgridcolor": "white",
             "startlinecolor": "#2a3f5f"
            },
            "type": "carpet"
           }
          ],
          "choropleth": [
           {
            "colorbar": {
             "outlinewidth": 0,
             "ticks": ""
            },
            "type": "choropleth"
           }
          ],
          "contour": [
           {
            "colorbar": {
             "outlinewidth": 0,
             "ticks": ""
            },
            "colorscale": [
             [
              0,
              "#0d0887"
             ],
             [
              0.1111111111111111,
              "#46039f"
             ],
             [
              0.2222222222222222,
              "#7201a8"
             ],
             [
              0.3333333333333333,
              "#9c179e"
             ],
             [
              0.4444444444444444,
              "#bd3786"
             ],
             [
              0.5555555555555556,
              "#d8576b"
             ],
             [
              0.6666666666666666,
              "#ed7953"
             ],
             [
              0.7777777777777778,
              "#fb9f3a"
             ],
             [
              0.8888888888888888,
              "#fdca26"
             ],
             [
              1,
              "#f0f921"
             ]
            ],
            "type": "contour"
           }
          ],
          "contourcarpet": [
           {
            "colorbar": {
             "outlinewidth": 0,
             "ticks": ""
            },
            "type": "contourcarpet"
           }
          ],
          "heatmap": [
           {
            "colorbar": {
             "outlinewidth": 0,
             "ticks": ""
            },
            "colorscale": [
             [
              0,
              "#0d0887"
             ],
             [
              0.1111111111111111,
              "#46039f"
             ],
             [
              0.2222222222222222,
              "#7201a8"
             ],
             [
              0.3333333333333333,
              "#9c179e"
             ],
             [
              0.4444444444444444,
              "#bd3786"
             ],
             [
              0.5555555555555556,
              "#d8576b"
             ],
             [
              0.6666666666666666,
              "#ed7953"
             ],
             [
              0.7777777777777778,
              "#fb9f3a"
             ],
             [
              0.8888888888888888,
              "#fdca26"
             ],
             [
              1,
              "#f0f921"
             ]
            ],
            "type": "heatmap"
           }
          ],
          "histogram": [
           {
            "marker": {
             "pattern": {
              "fillmode": "overlay",
              "size": 10,
              "solidity": 0.2
             }
            },
            "type": "histogram"
           }
          ],
          "histogram2d": [
           {
            "colorbar": {
             "outlinewidth": 0,
             "ticks": ""
            },
            "colorscale": [
             [
              0,
              "#0d0887"
             ],
             [
              0.1111111111111111,
              "#46039f"
             ],
             [
              0.2222222222222222,
              "#7201a8"
             ],
             [
              0.3333333333333333,
              "#9c179e"
             ],
             [
              0.4444444444444444,
              "#bd3786"
             ],
             [
              0.5555555555555556,
              "#d8576b"
             ],
             [
              0.6666666666666666,
              "#ed7953"
             ],
             [
              0.7777777777777778,
              "#fb9f3a"
             ],
             [
              0.8888888888888888,
              "#fdca26"
             ],
             [
              1,
              "#f0f921"
             ]
            ],
            "type": "histogram2d"
           }
          ],
          "histogram2dcontour": [
           {
            "colorbar": {
             "outlinewidth": 0,
             "ticks": ""
            },
            "colorscale": [
             [
              0,
              "#0d0887"
             ],
             [
              0.1111111111111111,
              "#46039f"
             ],
             [
              0.2222222222222222,
              "#7201a8"
             ],
             [
              0.3333333333333333,
              "#9c179e"
             ],
             [
              0.4444444444444444,
              "#bd3786"
             ],
             [
              0.5555555555555556,
              "#d8576b"
             ],
             [
              0.6666666666666666,
              "#ed7953"
             ],
             [
              0.7777777777777778,
              "#fb9f3a"
             ],
             [
              0.8888888888888888,
              "#fdca26"
             ],
             [
              1,
              "#f0f921"
             ]
            ],
            "type": "histogram2dcontour"
           }
          ],
          "mesh3d": [
           {
            "colorbar": {
             "outlinewidth": 0,
             "ticks": ""
            },
            "type": "mesh3d"
           }
          ],
          "parcoords": [
           {
            "line": {
             "colorbar": {
              "outlinewidth": 0,
              "ticks": ""
             }
            },
            "type": "parcoords"
           }
          ],
          "pie": [
           {
            "automargin": true,
            "type": "pie"
           }
          ],
          "scatter": [
           {
            "fillpattern": {
             "fillmode": "overlay",
             "size": 10,
             "solidity": 0.2
            },
            "type": "scatter"
           }
          ],
          "scatter3d": [
           {
            "line": {
             "colorbar": {
              "outlinewidth": 0,
              "ticks": ""
             }
            },
            "marker": {
             "colorbar": {
              "outlinewidth": 0,
              "ticks": ""
             }
            },
            "type": "scatter3d"
           }
          ],
          "scattercarpet": [
           {
            "marker": {
             "colorbar": {
              "outlinewidth": 0,
              "ticks": ""
             }
            },
            "type": "scattercarpet"
           }
          ],
          "scattergeo": [
           {
            "marker": {
             "colorbar": {
              "outlinewidth": 0,
              "ticks": ""
             }
            },
            "type": "scattergeo"
           }
          ],
          "scattergl": [
           {
            "marker": {
             "colorbar": {
              "outlinewidth": 0,
              "ticks": ""
             }
            },
            "type": "scattergl"
           }
          ],
          "scattermap": [
           {
            "marker": {
             "colorbar": {
              "outlinewidth": 0,
              "ticks": ""
             }
            },
            "type": "scattermap"
           }
          ],
          "scattermapbox": [
           {
            "marker": {
             "colorbar": {
              "outlinewidth": 0,
              "ticks": ""
             }
            },
            "type": "scattermapbox"
           }
          ],
          "scatterpolar": [
           {
            "marker": {
             "colorbar": {
              "outlinewidth": 0,
              "ticks": ""
             }
            },
            "type": "scatterpolar"
           }
          ],
          "scatterpolargl": [
           {
            "marker": {
             "colorbar": {
              "outlinewidth": 0,
              "ticks": ""
             }
            },
            "type": "scatterpolargl"
           }
          ],
          "scatterternary": [
           {
            "marker": {
             "colorbar": {
              "outlinewidth": 0,
              "ticks": ""
             }
            },
            "type": "scatterternary"
           }
          ],
          "surface": [
           {
            "colorbar": {
             "outlinewidth": 0,
             "ticks": ""
            },
            "colorscale": [
             [
              0,
              "#0d0887"
             ],
             [
              0.1111111111111111,
              "#46039f"
             ],
             [
              0.2222222222222222,
              "#7201a8"
             ],
             [
              0.3333333333333333,
              "#9c179e"
             ],
             [
              0.4444444444444444,
              "#bd3786"
             ],
             [
              0.5555555555555556,
              "#d8576b"
             ],
             [
              0.6666666666666666,
              "#ed7953"
             ],
             [
              0.7777777777777778,
              "#fb9f3a"
             ],
             [
              0.8888888888888888,
              "#fdca26"
             ],
             [
              1,
              "#f0f921"
             ]
            ],
            "type": "surface"
           }
          ],
          "table": [
           {
            "cells": {
             "fill": {
              "color": "#EBF0F8"
             },
             "line": {
              "color": "white"
             }
            },
            "header": {
             "fill": {
              "color": "#C8D4E3"
             },
             "line": {
              "color": "white"
             }
            },
            "type": "table"
           }
          ]
         },
         "layout": {
          "annotationdefaults": {
           "arrowcolor": "#2a3f5f",
           "arrowhead": 0,
           "arrowwidth": 1
          },
          "autotypenumbers": "strict",
          "coloraxis": {
           "colorbar": {
            "outlinewidth": 0,
            "ticks": ""
           }
          },
          "colorscale": {
           "diverging": [
            [
             0,
             "#8e0152"
            ],
            [
             0.1,
             "#c51b7d"
            ],
            [
             0.2,
             "#de77ae"
            ],
            [
             0.3,
             "#f1b6da"
            ],
            [
             0.4,
             "#fde0ef"
            ],
            [
             0.5,
             "#f7f7f7"
            ],
            [
             0.6,
             "#e6f5d0"
            ],
            [
             0.7,
             "#b8e186"
            ],
            [
             0.8,
             "#7fbc41"
            ],
            [
             0.9,
             "#4d9221"
            ],
            [
             1,
             "#276419"
            ]
           ],
           "sequential": [
            [
             0,
             "#0d0887"
            ],
            [
             0.1111111111111111,
             "#46039f"
            ],
            [
             0.2222222222222222,
             "#7201a8"
            ],
            [
             0.3333333333333333,
             "#9c179e"
            ],
            [
             0.4444444444444444,
             "#bd3786"
            ],
            [
             0.5555555555555556,
             "#d8576b"
            ],
            [
             0.6666666666666666,
             "#ed7953"
            ],
            [
             0.7777777777777778,
             "#fb9f3a"
            ],
            [
             0.8888888888888888,
             "#fdca26"
            ],
            [
             1,
             "#f0f921"
            ]
           ],
           "sequentialminus": [
            [
             0,
             "#0d0887"
            ],
            [
             0.1111111111111111,
             "#46039f"
            ],
            [
             0.2222222222222222,
             "#7201a8"
            ],
            [
             0.3333333333333333,
             "#9c179e"
            ],
            [
             0.4444444444444444,
             "#bd3786"
            ],
            [
             0.5555555555555556,
             "#d8576b"
            ],
            [
             0.6666666666666666,
             "#ed7953"
            ],
            [
             0.7777777777777778,
             "#fb9f3a"
            ],
            [
             0.8888888888888888,
             "#fdca26"
            ],
            [
             1,
             "#f0f921"
            ]
           ]
          },
          "colorway": [
           "#636efa",
           "#EF553B",
           "#00cc96",
           "#ab63fa",
           "#FFA15A",
           "#19d3f3",
           "#FF6692",
           "#B6E880",
           "#FF97FF",
           "#FECB52"
          ],
          "font": {
           "color": "#2a3f5f"
          },
          "geo": {
           "bgcolor": "white",
           "lakecolor": "white",
           "landcolor": "#E5ECF6",
           "showlakes": true,
           "showland": true,
           "subunitcolor": "white"
          },
          "hoverlabel": {
           "align": "left"
          },
          "hovermode": "closest",
          "mapbox": {
           "style": "light"
          },
          "paper_bgcolor": "white",
          "plot_bgcolor": "#E5ECF6",
          "polar": {
           "angularaxis": {
            "gridcolor": "white",
            "linecolor": "white",
            "ticks": ""
           },
           "bgcolor": "#E5ECF6",
           "radialaxis": {
            "gridcolor": "white",
            "linecolor": "white",
            "ticks": ""
           }
          },
          "scene": {
           "xaxis": {
            "backgroundcolor": "#E5ECF6",
            "gridcolor": "white",
            "gridwidth": 2,
            "linecolor": "white",
            "showbackground": true,
            "ticks": "",
            "zerolinecolor": "white"
           },
           "yaxis": {
            "backgroundcolor": "#E5ECF6",
            "gridcolor": "white",
            "gridwidth": 2,
            "linecolor": "white",
            "showbackground": true,
            "ticks": "",
            "zerolinecolor": "white"
           },
           "zaxis": {
            "backgroundcolor": "#E5ECF6",
            "gridcolor": "white",
            "gridwidth": 2,
            "linecolor": "white",
            "showbackground": true,
            "ticks": "",
            "zerolinecolor": "white"
           }
          },
          "shapedefaults": {
           "line": {
            "color": "#2a3f5f"
           }
          },
          "ternary": {
           "aaxis": {
            "gridcolor": "white",
            "linecolor": "white",
            "ticks": ""
           },
           "baxis": {
            "gridcolor": "white",
            "linecolor": "white",
            "ticks": ""
           },
           "bgcolor": "#E5ECF6",
           "caxis": {
            "gridcolor": "white",
            "linecolor": "white",
            "ticks": ""
           }
          },
          "title": {
           "x": 0.05
          },
          "xaxis": {
           "automargin": true,
           "gridcolor": "white",
           "linecolor": "white",
           "ticks": "",
           "title": {
            "standoff": 15
           },
           "zerolinecolor": "white",
           "zerolinewidth": 2
          },
          "yaxis": {
           "automargin": true,
           "gridcolor": "white",
           "linecolor": "white",
           "ticks": "",
           "title": {
            "standoff": 15
           },
           "zerolinecolor": "white",
           "zerolinewidth": 2
          }
         }
        },
        "title": {
         "text": "Training Metrics Comparison Across Runs"
        },
        "updatemenus": [
         {
          "bgcolor": "lightgrey",
          "bordercolor": "black",
          "buttons": [
           {
            "args": [
             {
              "visible": [
               true,
               true,
               true,
               true,
               true,
               true,
               true,
               true,
               true,
               true,
               true,
               true,
               true,
               true,
               true,
               true
              ]
             }
            ],
            "label": "All",
            "method": "update"
           },
           {
            "args": [
             {
              "visible": [
               true,
               false,
               true,
               false,
               true,
               false,
               true,
               false,
               true,
               false,
               true,
               false,
               true,
               false,
               true,
               false
              ]
             }
            ],
            "label": "Train only",
            "method": "update"
           },
           {
            "args": [
             {
              "visible": [
               false,
               true,
               false,
               true,
               false,
               true,
               false,
               true,
               false,
               true,
               false,
               true,
               false,
               true,
               false,
               true
              ]
             }
            ],
            "label": "Val only",
            "method": "update"
           }
          ],
          "direction": "left",
          "showactive": true,
          "x": 1,
          "xanchor": "left",
          "y": 1.15,
          "yanchor": "top"
         },
         {
          "bgcolor": "lightgrey",
          "bordercolor": "black",
          "buttons": [
           {
            "args": [
             {
              "visible": [
               true,
               true,
               true,
               true,
               true,
               true,
               true,
               true,
               true,
               true,
               true,
               true,
               true,
               true,
               true,
               true
              ]
             }
            ],
            "label": "All runs",
            "method": "update"
           },
           {
            "args": [
             {
              "visible": [
               true,
               true,
               true,
               true,
               false,
               false,
               false,
               false,
               false,
               false,
               false,
               false,
               false,
               false,
               false,
               false
              ]
             }
            ],
            "label": "TinyVGG_run_1_09290103_last",
            "method": "update"
           },
           {
            "args": [
             {
              "visible": [
               false,
               false,
               false,
               false,
               true,
               true,
               true,
               true,
               false,
               false,
               false,
               false,
               false,
               false,
               false,
               false
              ]
             }
            ],
            "label": "TinyVGG_run_2_09290110_last",
            "method": "update"
           },
           {
            "args": [
             {
              "visible": [
               false,
               false,
               false,
               false,
               false,
               false,
               false,
               false,
               true,
               true,
               true,
               true,
               false,
               false,
               false,
               false
              ]
             }
            ],
            "label": "TinyVGG_run_3_09290127_last",
            "method": "update"
           },
           {
            "args": [
             {
              "visible": [
               false,
               false,
               false,
               false,
               false,
               false,
               false,
               false,
               false,
               false,
               false,
               false,
               true,
               true,
               true,
               true
              ]
             }
            ],
            "label": "TinyVGG_run_4_09290140_last",
            "method": "update"
           }
          ],
          "direction": "down",
          "showactive": true,
          "x": 1,
          "xanchor": "left",
          "y": 1.1,
          "yanchor": "top"
         }
        ],
        "width": 1000,
        "xaxis": {
         "anchor": "y",
         "domain": [
          0,
          1
         ],
         "matches": "x2",
         "showticklabels": false,
         "title": {
          "text": "Epoch"
         }
        },
        "xaxis2": {
         "anchor": "y2",
         "domain": [
          0,
          1
         ],
         "title": {
          "text": "Epoch"
         }
        },
        "yaxis": {
         "anchor": "x",
         "domain": [
          0.625,
          1
         ],
         "title": {
          "text": "Loss"
         }
        },
        "yaxis2": {
         "anchor": "x2",
         "domain": [
          0,
          0.375
         ],
         "title": {
          "text": "Accuracy"
         }
        }
       }
      }
     },
     "metadata": {},
     "output_type": "display_data"
    }
   ],
   "source": [
    "from utils import plotting\n",
    "from pathlib import Path\n",
    "\n",
    "# Path to folder with metrics\n",
    "metrics_dir = Path(\"metrics\")\n",
    "\n",
    "# Usage\n",
    "metrics = plotting.load_all_metrics(metrics_dir, pattern=\"*_last.json\")\n",
    "plotting.plot_metrics_grid(metrics)\n"
   ]
  },
  {
   "cell_type": "markdown",
   "id": "51f77e0d",
   "metadata": {},
   "source": [
    "Quick observations:\n",
    "- Run 1 – overfit, train and validation performance diverge\n",
    "- Run 2-4 – stable training, both train and validation improve "
   ]
  },
  {
   "cell_type": "markdown",
   "id": "9aad37fc",
   "metadata": {},
   "source": [
    "# Best Model Comparison"
   ]
  },
  {
   "cell_type": "code",
   "execution_count": 19,
   "id": "46c7a0b0",
   "metadata": {},
   "outputs": [
    {
     "name": "stdout",
     "output_type": "stream",
     "text": [
      "shape: (4, 7)\n",
      "┌────────────────────┬────────────┬──────────┬────────────────┬──────────────┬────────────┬────────┐\n",
      "│ run_name           ┆ train_loss ┆ val_loss ┆ train_accuracy ┆ val_accuracy ┆ train_time ┆ epochs │\n",
      "│ ---                ┆ ---        ┆ ---      ┆ ---            ┆ ---          ┆ ---        ┆ ---    │\n",
      "│ str                ┆ f64        ┆ f64      ┆ f64            ┆ f64          ┆ f64        ┆ i64    │\n",
      "╞════════════════════╪════════════╪══════════╪════════════════╪══════════════╪════════════╪════════╡\n",
      "│ TinyVGG_run_3_0929 ┆ 0.45       ┆ 0.57     ┆ 0.84           ┆ 0.81         ┆ 671.11     ┆ 20     │\n",
      "│ 0127_best          ┆            ┆          ┆                ┆              ┆            ┆        │\n",
      "│ TinyVGG_run_4_0929 ┆ 0.71       ┆ 0.6      ┆ 0.75           ┆ 0.79         ┆ 670.73     ┆ 19     │\n",
      "│ 0140_best          ┆            ┆          ┆                ┆              ┆            ┆        │\n",
      "│ TinyVGG_run_2_0929 ┆ 0.6        ┆ 0.66     ┆ 0.79           ┆ 0.77         ┆ 529.21     ┆ 16     │\n",
      "│ 0110_best          ┆            ┆          ┆                ┆              ┆            ┆        │\n",
      "│ TinyVGG_run_1_0929 ┆ 0.54       ┆ 0.77     ┆ 0.81           ┆ 0.74         ┆ 148.32     ┆ 5      │\n",
      "│ 0103_best          ┆            ┆          ┆                ┆              ┆            ┆        │\n",
      "└────────────────────┴────────────┴──────────┴────────────────┴──────────────┴────────────┴────────┘\n",
      "Best run: TinyVGG_run_3_09290127_best\n"
     ]
    }
   ],
   "source": [
    "import polars as pl\n",
    "\n",
    "# Load metrics\n",
    "best_metrics = plotting.load_all_metrics(metrics_dir, pattern=\"*_best.json\")\n",
    "\n",
    "# Flatten metrics using list comprehension\n",
    "rows = [\n",
    "    {\n",
    "        \"run_name\": m[\"run_name\"],\n",
    "        \"train_loss\": m[\"train_loss\"][0] if m.get(\"train_loss\") else None,\n",
    "        \"val_loss\": m[\"val_loss\"][0] if m.get(\"val_loss\") else None,\n",
    "        \"train_accuracy\": m[\"train_accuracy\"][0] if m.get(\"train_accuracy\") else None,\n",
    "        \"val_accuracy\": m[\"val_accuracy\"][0] if m.get(\"val_accuracy\") else None,\n",
    "        \"train_time\": m.get(\"train_time\"),\n",
    "        \"epochs\": m.get(\"epoch\", m.get(\"epochs\")),\n",
    "    }\n",
    "    for m in best_metrics\n",
    "]\n",
    "\n",
    "# Create Polars DataFrame\n",
    "df = pl.DataFrame(rows)\n",
    "df_rounded = df.with_columns([pl.col(pl.Float64).exclude(\"epochs\").round(2)])\n",
    "# Rank by validation accuracy (descending)\n",
    "df_ranked = df_rounded.sort(\"val_accuracy\", descending=True)\n",
    "print(df_ranked)\n",
    "\n",
    "# print the best run name\n",
    "print(f\"Best run: {df_ranked[0, 'run_name']}\")\n",
    "\n",
    "# Optionally, save\n",
    "# df_ranked.write_csv(\"ranked_best_metrics.csv\")\n"
   ]
  },
  {
   "cell_type": "markdown",
   "id": "e69369da",
   "metadata": {},
   "source": [
    "Runs 3 and 4 show the most promise:\n",
    "- Run 3: Best performance, stable training, early stopping not triggered. Likely to improve further with continued training.\n",
    "- Run 4: Second-best performance, stable training, early stopping triggered (just). Has the most regularization, so relaxing early stopping and training longer might yield good results. Small models can struggle with heavy regularization due to limited capacity, so might not beat Run 3 configuration.\n",
    "\n",
    "We will choose Run 3 best model to evaluate on the testing set in `final_results.ipynb`."
   ]
  }
 ],
 "metadata": {
  "kernelspec": {
   "display_name": "ptorch",
   "language": "python",
   "name": "python3"
  },
  "language_info": {
   "codemirror_mode": {
    "name": "ipython",
    "version": 3
   },
   "file_extension": ".py",
   "mimetype": "text/x-python",
   "name": "python",
   "nbconvert_exporter": "python",
   "pygments_lexer": "ipython3",
   "version": "3.11.13"
  }
 },
 "nbformat": 4,
 "nbformat_minor": 5
}
